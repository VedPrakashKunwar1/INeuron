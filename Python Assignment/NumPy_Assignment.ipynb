{
  "nbformat": 4,
  "nbformat_minor": 0,
  "metadata": {
    "colab": {
      "name": "NumPy Assignment.ipynb",
      "provenance": []
    },
    "kernelspec": {
      "name": "python3",
      "display_name": "Python 3"
    },
    "language_info": {
      "name": "python"
    }
  },
  "cells": [
    {
      "cell_type": "code",
      "metadata": {
        "id": "UvBihwHHFeP2"
      },
      "source": [
        "#  Q1. Vandermonde matrix"
      ],
      "execution_count": null,
      "outputs": []
    },
    {
      "cell_type": "code",
      "metadata": {
        "id": "CP7ozD_dEHg6"
      },
      "source": [
        "import numpy as np"
      ],
      "execution_count": null,
      "outputs": []
    },
    {
      "cell_type": "code",
      "metadata": {
        "colab": {
          "base_uri": "https://localhost:8080/"
        },
        "id": "WerYlO1UFVt8",
        "outputId": "d64a1ec2-3da6-49a5-f384-0321bb7edc58"
      },
      "source": [
        "x = np.array([1, 2, 3, 5])\n",
        "N = 3\n",
        "np.column_stack([x**(N-1-i) for i in range(N)])"
      ],
      "execution_count": null,
      "outputs": [
        {
          "output_type": "execute_result",
          "data": {
            "text/plain": [
              "array([[ 1,  1,  1],\n",
              "       [ 4,  2,  1],\n",
              "       [ 9,  3,  1],\n",
              "       [25,  5,  1]])"
            ]
          },
          "metadata": {
            "tags": []
          },
          "execution_count": 2
        }
      ]
    },
    {
      "cell_type": "code",
      "metadata": {
        "id": "HqSvivlpFckv"
      },
      "source": [
        "# Q2: Moving Average"
      ],
      "execution_count": null,
      "outputs": []
    },
    {
      "cell_type": "code",
      "metadata": {
        "colab": {
          "base_uri": "https://localhost:8080/"
        },
        "id": "l0wZnUFhFqXU",
        "outputId": "a2776fa5-00e3-4519-ad50-9a913f5c8063"
      },
      "source": [
        "x = list(range(10, 101, 10))\n",
        "print('Array is : {}'.format(x))\n",
        "print('Moving Average : {}'.format(np.convolve(x, np.ones(4), 'valid')/4))"
      ],
      "execution_count": null,
      "outputs": [
        {
          "output_type": "stream",
          "text": [
            "Array is : [10, 20, 30, 40, 50, 60, 70, 80, 90, 100]\n",
            "Moving Average : [25. 35. 45. 55. 65. 75. 85.]\n"
          ],
          "name": "stdout"
        }
      ]
    },
    {
      "cell_type": "code",
      "metadata": {
        "colab": {
          "base_uri": "https://localhost:8080/"
        },
        "id": "hPPsZsQWHR6I",
        "outputId": "bb37ccd1-f927-4386-f445-9a4fd0b3b1f6"
      },
      "source": [
        "x = [3, 5, 7, 2, 8, 10, 11, 65, 72, 81, 99, 100, 150]\n",
        "print('Array is : {}'.format(x))\n",
        "print('Moving Average : {}'.format(np.convolve(x, np.ones(3), 'valid')/3))"
      ],
      "execution_count": null,
      "outputs": [
        {
          "output_type": "stream",
          "text": [
            "Array is : [3, 5, 7, 2, 8, 10, 11, 65, 72, 81, 99, 100, 150]\n",
            "Moving Average : [  5.           4.66666667   5.66666667   6.66666667   9.66666667\n",
            "  28.66666667  49.33333333  72.66666667  84.          93.33333333\n",
            " 116.33333333]\n"
          ],
          "name": "stdout"
        }
      ]
    }
  ]
}